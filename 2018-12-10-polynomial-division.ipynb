{
 "cells": [
  {
   "cell_type": "code",
   "execution_count": 64,
   "metadata": {},
   "outputs": [],
   "source": [
    "R.<x> = PolynomialRing(QQ, sparse=True)"
   ]
  },
  {
   "cell_type": "code",
   "execution_count": 30,
   "metadata": {},
   "outputs": [
    {
     "data": {
      "text/plain": [
       "(x^2 - 4*x + 15, -50*x^2 - 45*x + 95)"
      ]
     },
     "execution_count": 30,
     "metadata": {},
     "output_type": "execute_result"
    }
   ],
   "source": [
    "(x^5 - 6*x + 5).quo_rem(x^3 + 4*x^2 + x - 6)"
   ]
  },
  {
   "cell_type": "code",
   "execution_count": 25,
   "metadata": {},
   "outputs": [
    {
     "data": {
      "text/plain": [
       "(-1/50*x - 31/500, 11/100*x - 11/100)"
      ]
     },
     "execution_count": 25,
     "metadata": {},
     "output_type": "execute_result"
    }
   ],
   "source": [
    "(x^3 + 4*x^2 + x - 6).quo_rem(-50*x^2 - 45*x + 95)"
   ]
  },
  {
   "cell_type": "code",
   "execution_count": 28,
   "metadata": {},
   "outputs": [
    {
     "data": {
      "text/plain": [
       "(-5000/11*x - 9500/11, 0)"
      ]
     },
     "execution_count": 28,
     "metadata": {},
     "output_type": "execute_result"
    }
   ],
   "source": [
    "(-50*x^2 - 45*x + 95).quo_rem(11/100*x - 11/100)"
   ]
  },
  {
   "cell_type": "code",
   "execution_count": 65,
   "metadata": {},
   "outputs": [],
   "source": [
    "def extgcd(n,m):\n",
    "    \n",
    "    r = []; s = [1,0]; t = [0,1]\n",
    "    r.append(n)\n",
    "    r.append(m)\n",
    "    \n",
    "    while r[-1] != 0:\n",
    "        (quo,rem) = r[-2].quo_rem(r[-1])\n",
    "        r.append(rem)\n",
    "        s.append(s[-2] - quo*s[-1])\n",
    "        t.append(t[-2] - quo*t[-1])\n",
    "\n",
    "    return r[-2], s[-2], t[-2]"
   ]
  },
  {
   "cell_type": "code",
   "execution_count": 62,
   "metadata": {},
   "outputs": [
    {
     "name": "stdout",
     "output_type": "stream",
     "text": [
      "(11/100*x - 11/100, 1/50*x + 31/500, -1/50*x^3 + 9/500*x^2 - 13/250*x + 7/100)\n"
     ]
    }
   ],
   "source": [
    "n = x^5 - 6*x + 5\n",
    "m = x^3 + 4*x^2 + x - 6\n",
    "(gcd, s, t) = extgcd(n,m)\n",
    "print(gcd, s, t)"
   ]
  },
  {
   "cell_type": "code",
   "execution_count": 63,
   "metadata": {},
   "outputs": [
    {
     "data": {
      "text/plain": [
       "True"
      ]
     },
     "execution_count": 63,
     "metadata": {},
     "output_type": "execute_result"
    }
   ],
   "source": [
    "n*s + m*t == gcd"
   ]
  },
  {
   "cell_type": "code",
   "execution_count": null,
   "metadata": {},
   "outputs": [],
   "source": []
  }
 ],
 "metadata": {
  "kernelspec": {
   "display_name": "SageMath 8.2",
   "language": "",
   "name": "sagemath"
  },
  "language_info": {
   "codemirror_mode": {
    "name": "ipython",
    "version": 2
   },
   "file_extension": ".py",
   "mimetype": "text/x-python",
   "name": "python",
   "nbconvert_exporter": "python",
   "pygments_lexer": "ipython2",
   "version": "2.7.14"
  }
 },
 "nbformat": 4,
 "nbformat_minor": 2
}
